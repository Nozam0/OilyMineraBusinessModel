{
 "cells": [
  {
   "cell_type": "markdown",
   "id": "76e56730",
   "metadata": {},
   "source": [
    "Hola &#x1F600;\n",
    "\n",
    "Soy **Hesus Garcia**, revisor de código de Practicum, y voy a examinar el proyecto que has desarrollado recientemente. Si encuentro algún error, te lo señalaré para que lo corrijas, ya que mi objetivo es ayudarte a prepararte para un ambiente de trabajo real, donde el líder de tu equipo actuaría de la misma manera. Si no puedes solucionar el problema, te proporcionaré más información en la próxima oportunidad. Cuando encuentres un comentario,  **por favor, no los muevas, no los modifiques ni los borres**. \n",
    "\n",
    "Revisaré cuidadosamente todas las implementaciones que has realizado para cumplir con los requisitos y te proporcionaré mis comentarios de la siguiente manera:\n",
    "\n",
    "\n",
    "<div class=\"alert alert-block alert-success\">\n",
    "<b>Comentario del revisor</b> <a class=“tocSkip”></a>\n",
    "Si todo está perfecto.\n",
    "</div>\n",
    "\n",
    "<div class=\"alert alert-block alert-warning\">\n",
    "<b>Comentario del revisor</b> <a class=“tocSkip”></a>\n",
    "Si tu código está bien pero se puede mejorar o hay algún detalle que le hace falta.\n",
    "</div>\n",
    "\n",
    "<div class=\"alert alert-block alert-danger\">\n",
    "<b>Comentario del revisor</b> <a class=“tocSkip”></a>\n",
    "Si de pronto hace falta algo o existe algún problema con tu código o conclusiones.\n",
    "</div>\n",
    "\n",
    "Puedes responderme de esta forma:\n",
    "<div class=\"alert alert-block alert-info\">\n",
    "<b>Respuesta del estudiante</b> <a class=“tocSkip”></a>\n",
    "</div>\n",
    "\n",
    "</br>\n",
    "\n",
    "**¡Empecemos!**  &#x1F680;\n"
   ]
  },
  {
   "cell_type": "markdown",
   "id": "f43397d9",
   "metadata": {},
   "source": [
    "# OilyGiant\n",
    "\n",
    "# Descripción del proyecto\n",
    "\n",
    "Se trabaja para la compañía minera OilyGiant. El objetivo es encontrar el mejor lugar para un nuevo pozo, para ello es necesario del uso de los parámetros del pozo de petróleo en la regiones seleccionadas, calidad del petróleo y volumen de reservas. La petición del cliente es construir un modelo para predecir el volumen de reservas en los nuevos pozos seleccionando los pozos de petróleo con los valores estimados más altos obteniendo así el mayor beneficio total para los pozos de petróleo seleccionados.\n",
    "\n",
    "El departamento de OilyGiant nos brinda datos sobre muestras de crudo de tres regiones; ya se conocen los parámetros de cada pozo petrolero de la región."
   ]
  },
  {
   "cell_type": "markdown",
   "id": "cb0778da",
   "metadata": {},
   "source": [
    "# Tabla de contenido\n",
    "\n",
    "1. [Introducción](#Introducción)\n",
    "\n",
    "    1.1 [Objetivo general](#Objetivo-general)\n",
    "    \n",
    "    1.2 [Objetivos particulares](#Objetivos-particulares)\n",
    "    \n",
    "    \n",
    "2. [Descripción de los datos](#Descripción-de-los-datos)\n",
    "\n",
    "\n",
    "3. [Limpieza de datos](#Limpieza-de-datos)\n",
    "\n",
    "\n",
    "4. [Procesamiento de datos](#Procesamiento-de-datos)\n",
    "\n",
    "\n",
    "5. [Generación de modelo predictivo](#Generación-de-modelo-predictivo)\n",
    "\n",
    "    5.1 [Hallazgos preliminares](#Hallazgos-preliminares)\n",
    "    \n",
    "    \n",
    "6. [Cálculo de ganancias](#Cálculo-de-ganancias)\n",
    "\n",
    "\n",
    "7. [Cálculo de riesgos con respecto a las características del pozo](#Cálculo-de-riesgos-con-respecto-a-las-características-del-pozo)\n",
    "\n",
    "\n",
    "8. [Cálculo de beneficio predictivo por región](#Cálculo-de-beneficio-predictivo-por-región)\n",
    "\n",
    "    8.1 [Cálculo de ganancias con respecto a una muestra aleatoria por región](#Cálculo-de-ganancias-con-respecto-a-una-muestra-aleatoria-por-región)\n",
    "\n",
    "\n",
    "6. [Conclusión](#Conclusión)"
   ]
  },
  {
   "cell_type": "markdown",
   "id": "331822ca",
   "metadata": {},
   "source": [
    "<div class=\"alert alert-block alert-success\">\n",
    "<b>Comentario del revisor</b> <a class=“tocSkip”></a>\n",
    "Excelente incluir una tabla de contenido con hipervinculos\n",
    "</div>\n"
   ]
  },
  {
   "cell_type": "markdown",
   "id": "f4f3dc50",
   "metadata": {},
   "source": [
    "## Introducción\n",
    "\n",
    "\n",
    "\n",
    "## Objetivo general\n",
    "\n",
    "- Desarrollar un modelo que ayude a predecir la mejor region para instalar un pozo con el mejor beneficio.\n",
    "\n",
    "## Objetivos particulares\n",
    "\n",
    "- Recolectar los parámetros del pozo de petróleo en la región seleccionada: calidad del petróleo y volumen de reservas.\n",
    "- Construir un modelo para predecir el volumen de reservas en los nuevos pozos.\n",
    "- Selecciona los pozos de petróleo con los valores estimados más altos.\n",
    "- Eligir la región con el mayor beneficio total para los pozos de petróleo seleccionados."
   ]
  },
  {
   "cell_type": "markdown",
   "id": "e72ab91e",
   "metadata": {},
   "source": [
    "<div class=\"alert alert-block alert-success\">\n",
    "<b>Comentario del revisor</b> <a class=\"tocSkip\"></a>\n",
    "    \n",
    "Bien, es clave realizar una descripción del proyecto que estamos abordando y sus objetivos!\n",
    "</div>"
   ]
  },
  {
   "cell_type": "code",
   "execution_count": 1,
   "id": "bc47419f",
   "metadata": {},
   "outputs": [],
   "source": [
    "# importar las librerías que se van a utilizar\n",
    "import pandas as pd\n",
    "import numpy as np\n",
    "import math\n",
    "from numpy.random import RandomState\n",
    "\n",
    "# para la división y subconjunto de datos (entrenamiento y validación)\n",
    "from sklearn.model_selection import train_test_split\n",
    "\n",
    "# importar modelo de predicción en formato de regresión logística\n",
    "from sklearn.linear_model import LinearRegression\n",
    "\n",
    "# librerías para análisis estadístico\n",
    "from sklearn.metrics import mean_squared_error, r2_score\n",
    "\n",
    "# comparativa de medias poblacionales\n",
    "from scipy import stats as st\n",
    "\n",
    "from sklearn.model_selection import cross_val_score\n",
    "import matplotlib.pyplot as plt"
   ]
  },
  {
   "cell_type": "code",
   "execution_count": 2,
   "id": "5fd32ee7",
   "metadata": {},
   "outputs": [],
   "source": [
    "# importar el archivo con formato csv que se va autilizar para trabajar\n",
    "\n",
    "try:\n",
    "    geo_1 = pd.read_csv('/datasets/geo_data_0.csv')\n",
    "    geo_2 = pd.read_csv('/datasets/geo_data_1.csv')\n",
    "    geo_3 = pd.read_csv('/datasets/geo_data_2.csv')\n",
    "except:\n",
    "    geo_1 = pd.read_csv('geo_data_0.csv')\n",
    "    geo_2 = pd.read_csv('geo_data_1.csv')\n",
    "    geo_3 = pd.read_csv('geo_data_2.csv')"
   ]
  },
  {
   "cell_type": "code",
   "execution_count": 3,
   "id": "f5292fd2",
   "metadata": {},
   "outputs": [
    {
     "name": "stdout",
     "output_type": "stream",
     "text": [
      "<class 'pandas.core.frame.DataFrame'>\n",
      "RangeIndex: 100000 entries, 0 to 99999\n",
      "Data columns (total 5 columns):\n",
      " #   Column   Non-Null Count   Dtype  \n",
      "---  ------   --------------   -----  \n",
      " 0   id       100000 non-null  object \n",
      " 1   f0       100000 non-null  float64\n",
      " 2   f1       100000 non-null  float64\n",
      " 3   f2       100000 non-null  float64\n",
      " 4   product  100000 non-null  float64\n",
      "dtypes: float64(4), object(1)\n",
      "memory usage: 3.8+ MB\n"
     ]
    },
    {
     "data": {
      "text/html": [
       "<div>\n",
       "<style scoped>\n",
       "    .dataframe tbody tr th:only-of-type {\n",
       "        vertical-align: middle;\n",
       "    }\n",
       "\n",
       "    .dataframe tbody tr th {\n",
       "        vertical-align: top;\n",
       "    }\n",
       "\n",
       "    .dataframe thead th {\n",
       "        text-align: right;\n",
       "    }\n",
       "</style>\n",
       "<table border=\"1\" class=\"dataframe\">\n",
       "  <thead>\n",
       "    <tr style=\"text-align: right;\">\n",
       "      <th></th>\n",
       "      <th>id</th>\n",
       "      <th>f0</th>\n",
       "      <th>f1</th>\n",
       "      <th>f2</th>\n",
       "      <th>product</th>\n",
       "    </tr>\n",
       "  </thead>\n",
       "  <tbody>\n",
       "    <tr>\n",
       "      <th>0</th>\n",
       "      <td>txEyH</td>\n",
       "      <td>0.705745</td>\n",
       "      <td>-0.497823</td>\n",
       "      <td>1.221170</td>\n",
       "      <td>105.280062</td>\n",
       "    </tr>\n",
       "    <tr>\n",
       "      <th>1</th>\n",
       "      <td>2acmU</td>\n",
       "      <td>1.334711</td>\n",
       "      <td>-0.340164</td>\n",
       "      <td>4.365080</td>\n",
       "      <td>73.037750</td>\n",
       "    </tr>\n",
       "    <tr>\n",
       "      <th>2</th>\n",
       "      <td>409Wp</td>\n",
       "      <td>1.022732</td>\n",
       "      <td>0.151990</td>\n",
       "      <td>1.419926</td>\n",
       "      <td>85.265647</td>\n",
       "    </tr>\n",
       "    <tr>\n",
       "      <th>3</th>\n",
       "      <td>iJLyR</td>\n",
       "      <td>-0.032172</td>\n",
       "      <td>0.139033</td>\n",
       "      <td>2.978566</td>\n",
       "      <td>168.620776</td>\n",
       "    </tr>\n",
       "    <tr>\n",
       "      <th>4</th>\n",
       "      <td>Xdl7t</td>\n",
       "      <td>1.988431</td>\n",
       "      <td>0.155413</td>\n",
       "      <td>4.751769</td>\n",
       "      <td>154.036647</td>\n",
       "    </tr>\n",
       "  </tbody>\n",
       "</table>\n",
       "</div>"
      ],
      "text/plain": [
       "      id        f0        f1        f2     product\n",
       "0  txEyH  0.705745 -0.497823  1.221170  105.280062\n",
       "1  2acmU  1.334711 -0.340164  4.365080   73.037750\n",
       "2  409Wp  1.022732  0.151990  1.419926   85.265647\n",
       "3  iJLyR -0.032172  0.139033  2.978566  168.620776\n",
       "4  Xdl7t  1.988431  0.155413  4.751769  154.036647"
      ]
     },
     "execution_count": 3,
     "metadata": {},
     "output_type": "execute_result"
    }
   ],
   "source": [
    "# vista preliminar de los datos\n",
    "geo_1.info()\n",
    "geo_1.head()"
   ]
  },
  {
   "cell_type": "code",
   "execution_count": 4,
   "id": "38025930",
   "metadata": {},
   "outputs": [
    {
     "name": "stdout",
     "output_type": "stream",
     "text": [
      "<class 'pandas.core.frame.DataFrame'>\n",
      "RangeIndex: 100000 entries, 0 to 99999\n",
      "Data columns (total 5 columns):\n",
      " #   Column   Non-Null Count   Dtype  \n",
      "---  ------   --------------   -----  \n",
      " 0   id       100000 non-null  object \n",
      " 1   f0       100000 non-null  float64\n",
      " 2   f1       100000 non-null  float64\n",
      " 3   f2       100000 non-null  float64\n",
      " 4   product  100000 non-null  float64\n",
      "dtypes: float64(4), object(1)\n",
      "memory usage: 3.8+ MB\n"
     ]
    },
    {
     "data": {
      "text/html": [
       "<div>\n",
       "<style scoped>\n",
       "    .dataframe tbody tr th:only-of-type {\n",
       "        vertical-align: middle;\n",
       "    }\n",
       "\n",
       "    .dataframe tbody tr th {\n",
       "        vertical-align: top;\n",
       "    }\n",
       "\n",
       "    .dataframe thead th {\n",
       "        text-align: right;\n",
       "    }\n",
       "</style>\n",
       "<table border=\"1\" class=\"dataframe\">\n",
       "  <thead>\n",
       "    <tr style=\"text-align: right;\">\n",
       "      <th></th>\n",
       "      <th>id</th>\n",
       "      <th>f0</th>\n",
       "      <th>f1</th>\n",
       "      <th>f2</th>\n",
       "      <th>product</th>\n",
       "    </tr>\n",
       "  </thead>\n",
       "  <tbody>\n",
       "    <tr>\n",
       "      <th>0</th>\n",
       "      <td>kBEdx</td>\n",
       "      <td>-15.001348</td>\n",
       "      <td>-8.276000</td>\n",
       "      <td>-0.005876</td>\n",
       "      <td>3.179103</td>\n",
       "    </tr>\n",
       "    <tr>\n",
       "      <th>1</th>\n",
       "      <td>62mP7</td>\n",
       "      <td>14.272088</td>\n",
       "      <td>-3.475083</td>\n",
       "      <td>0.999183</td>\n",
       "      <td>26.953261</td>\n",
       "    </tr>\n",
       "    <tr>\n",
       "      <th>2</th>\n",
       "      <td>vyE1P</td>\n",
       "      <td>6.263187</td>\n",
       "      <td>-5.948386</td>\n",
       "      <td>5.001160</td>\n",
       "      <td>134.766305</td>\n",
       "    </tr>\n",
       "    <tr>\n",
       "      <th>3</th>\n",
       "      <td>KcrkZ</td>\n",
       "      <td>-13.081196</td>\n",
       "      <td>-11.506057</td>\n",
       "      <td>4.999415</td>\n",
       "      <td>137.945408</td>\n",
       "    </tr>\n",
       "    <tr>\n",
       "      <th>4</th>\n",
       "      <td>AHL4O</td>\n",
       "      <td>12.702195</td>\n",
       "      <td>-8.147433</td>\n",
       "      <td>5.004363</td>\n",
       "      <td>134.766305</td>\n",
       "    </tr>\n",
       "  </tbody>\n",
       "</table>\n",
       "</div>"
      ],
      "text/plain": [
       "      id         f0         f1        f2     product\n",
       "0  kBEdx -15.001348  -8.276000 -0.005876    3.179103\n",
       "1  62mP7  14.272088  -3.475083  0.999183   26.953261\n",
       "2  vyE1P   6.263187  -5.948386  5.001160  134.766305\n",
       "3  KcrkZ -13.081196 -11.506057  4.999415  137.945408\n",
       "4  AHL4O  12.702195  -8.147433  5.004363  134.766305"
      ]
     },
     "execution_count": 4,
     "metadata": {},
     "output_type": "execute_result"
    }
   ],
   "source": [
    "geo_2.info()\n",
    "geo_2.head()"
   ]
  },
  {
   "cell_type": "code",
   "execution_count": 5,
   "id": "42939f37",
   "metadata": {},
   "outputs": [
    {
     "name": "stdout",
     "output_type": "stream",
     "text": [
      "<class 'pandas.core.frame.DataFrame'>\n",
      "RangeIndex: 100000 entries, 0 to 99999\n",
      "Data columns (total 5 columns):\n",
      " #   Column   Non-Null Count   Dtype  \n",
      "---  ------   --------------   -----  \n",
      " 0   id       100000 non-null  object \n",
      " 1   f0       100000 non-null  float64\n",
      " 2   f1       100000 non-null  float64\n",
      " 3   f2       100000 non-null  float64\n",
      " 4   product  100000 non-null  float64\n",
      "dtypes: float64(4), object(1)\n",
      "memory usage: 3.8+ MB\n"
     ]
    },
    {
     "data": {
      "text/html": [
       "<div>\n",
       "<style scoped>\n",
       "    .dataframe tbody tr th:only-of-type {\n",
       "        vertical-align: middle;\n",
       "    }\n",
       "\n",
       "    .dataframe tbody tr th {\n",
       "        vertical-align: top;\n",
       "    }\n",
       "\n",
       "    .dataframe thead th {\n",
       "        text-align: right;\n",
       "    }\n",
       "</style>\n",
       "<table border=\"1\" class=\"dataframe\">\n",
       "  <thead>\n",
       "    <tr style=\"text-align: right;\">\n",
       "      <th></th>\n",
       "      <th>id</th>\n",
       "      <th>f0</th>\n",
       "      <th>f1</th>\n",
       "      <th>f2</th>\n",
       "      <th>product</th>\n",
       "    </tr>\n",
       "  </thead>\n",
       "  <tbody>\n",
       "    <tr>\n",
       "      <th>0</th>\n",
       "      <td>fwXo0</td>\n",
       "      <td>-1.146987</td>\n",
       "      <td>0.963328</td>\n",
       "      <td>-0.828965</td>\n",
       "      <td>27.758673</td>\n",
       "    </tr>\n",
       "    <tr>\n",
       "      <th>1</th>\n",
       "      <td>WJtFt</td>\n",
       "      <td>0.262778</td>\n",
       "      <td>0.269839</td>\n",
       "      <td>-2.530187</td>\n",
       "      <td>56.069697</td>\n",
       "    </tr>\n",
       "    <tr>\n",
       "      <th>2</th>\n",
       "      <td>ovLUW</td>\n",
       "      <td>0.194587</td>\n",
       "      <td>0.289035</td>\n",
       "      <td>-5.586433</td>\n",
       "      <td>62.871910</td>\n",
       "    </tr>\n",
       "    <tr>\n",
       "      <th>3</th>\n",
       "      <td>q6cA6</td>\n",
       "      <td>2.236060</td>\n",
       "      <td>-0.553760</td>\n",
       "      <td>0.930038</td>\n",
       "      <td>114.572842</td>\n",
       "    </tr>\n",
       "    <tr>\n",
       "      <th>4</th>\n",
       "      <td>WPMUX</td>\n",
       "      <td>-0.515993</td>\n",
       "      <td>1.716266</td>\n",
       "      <td>5.899011</td>\n",
       "      <td>149.600746</td>\n",
       "    </tr>\n",
       "  </tbody>\n",
       "</table>\n",
       "</div>"
      ],
      "text/plain": [
       "      id        f0        f1        f2     product\n",
       "0  fwXo0 -1.146987  0.963328 -0.828965   27.758673\n",
       "1  WJtFt  0.262778  0.269839 -2.530187   56.069697\n",
       "2  ovLUW  0.194587  0.289035 -5.586433   62.871910\n",
       "3  q6cA6  2.236060 -0.553760  0.930038  114.572842\n",
       "4  WPMUX -0.515993  1.716266  5.899011  149.600746"
      ]
     },
     "execution_count": 5,
     "metadata": {},
     "output_type": "execute_result"
    }
   ],
   "source": [
    "geo_3.info()\n",
    "geo_3.head()"
   ]
  },
  {
   "cell_type": "markdown",
   "id": "95646b13",
   "metadata": {},
   "source": [
    "\n",
    "<div class=\"alert alert-block alert-warning\">\n",
    "<b>Comentarios del Revisor</b> <a class=\"tocSkip\"></a>\n",
    "¡Muy bien hecho! En general, se ve que has seguido un procedimiento adecuado. Sin embargo, para mejorar aún más, te sugiero que agregues una breve descripción de los dataframes y las variables que los componen. De esta manera, será más fácil para el equipo comprender y utilizar el código que has creado. Además, recuerda usar la función describe para obtener un resumen estadístico de los datos. ¡Sigue así! :)\n",
    "\n",
    "</div>"
   ]
  },
  {
   "cell_type": "markdown",
   "id": "9546636c",
   "metadata": {},
   "source": [
    "## Descripción de los datos"
   ]
  },
  {
   "cell_type": "markdown",
   "id": "787b625f",
   "metadata": {},
   "source": [
    "- *Id* — identificador único de pozo de petróleo\n",
    "- *f0, f1, f2* — tres características de los puntos (su significado específico no es importante, pero las características en sí son significativas)\n",
    "- *Product* — volumen de reservas en el pozo de petróleo (miles de barriles)\n"
   ]
  },
  {
   "cell_type": "markdown",
   "id": "ddbb4f08",
   "metadata": {},
   "source": [
    "## Limpieza de datos\n",
    "\n",
    "Los datos no contienen valores ausentes ni tipografía de datos incorrecta. Las tres tablas con las información de los pozos contienen el Id de la región úntual, las características propias de la región (f0, f1 y f2; sólo con valor estadístico), y el volúmen del crudo; este último se pretende usar como el valor de predicción ya que, con base en las características propias de la región es necesario hacer un modelo de predicción. Por último, la columna `id` no aporta valor estadístico por lo que se va a despreciar para la elaboración, entrenamiento, validación y predicción del modelo.\n"
   ]
  },
  {
   "cell_type": "markdown",
   "id": "589a733d",
   "metadata": {},
   "source": [
    "## Preprocesamiento de datos"
   ]
  },
  {
   "cell_type": "code",
   "execution_count": 6,
   "id": "6e8462f0",
   "metadata": {},
   "outputs": [],
   "source": [
    "# crear una función para preparar los datos para el entrenamiento, validación y la prueba del modelo dependiente del df\n",
    "\n",
    "def set_data(df):\n",
    "    # división de los modelos de entrenamiento, validación y prueba\n",
    "    train, val = train_test_split(df, test_size=0.25, random_state=12345) #20692\n",
    "    \n",
    "    # crear el set de features, target para cada uno de los conjuntos\n",
    "    train_features = train.drop(['id','product'], axis = 1)\n",
    "    train_target = train['product']\n",
    "    val_features = val.drop(['id','product'], axis = 1)\n",
    "    val_target = val['product']\n",
    "    return train_features, train_target, val_features, val_target"
   ]
  },
  {
   "cell_type": "markdown",
   "id": "4818355c",
   "metadata": {},
   "source": [
    "\n",
    "<div class=\"alert alert-block alert-success\">\n",
    "<b>Comentarios del Revisor</b> <a class=\"tocSkip\"></a>\n",
    "Excelente ver que has generado una función para preprocesar los datos y separarlos en conjuntos de entrenamiento y prueba. Esto demuestra un gran compromiso y habilidad para automatizar tareas repetitivas y mejorar la eficiencia del proceso. Excelente trabajo, ¡sigue así!\n",
    "\n",
    "</div>\n",
    "\n",
    "\n",
    "\n"
   ]
  },
  {
   "cell_type": "code",
   "execution_count": 7,
   "id": "65b252ac",
   "metadata": {},
   "outputs": [
    {
     "data": {
      "text/plain": [
       "71751     10.038645\n",
       "80493    114.551489\n",
       "2655     132.603635\n",
       "53233    169.072125\n",
       "91141    122.325180\n",
       "            ...    \n",
       "12581    170.116726\n",
       "18456     93.632175\n",
       "73035    127.352259\n",
       "63834     99.782700\n",
       "43558    177.821022\n",
       "Name: product, Length: 25000, dtype: float64"
      ]
     },
     "execution_count": 7,
     "metadata": {},
     "output_type": "execute_result"
    }
   ],
   "source": [
    "set_data(geo_1)[3]"
   ]
  },
  {
   "cell_type": "markdown",
   "id": "b1bce1c1",
   "metadata": {},
   "source": [
    "## Generación de modelo predictivo"
   ]
  },
  {
   "cell_type": "code",
   "execution_count": 8,
   "id": "52e087cd",
   "metadata": {},
   "outputs": [
    {
     "name": "stdout",
     "output_type": "stream",
     "text": [
      "Linear Regression\n",
      "RMSE = 37.5794217150813\n",
      "--------------------------------------------------\n",
      "Promedio = 92.59256778438035\n",
      "--------------------------------------------------\n",
      "Coeficiente de determinación\n",
      "R2 = 0.27994321524487786\n"
     ]
    }
   ],
   "source": [
    "# elaboraación del modelo (regresión lineal) y observación de la métrica de coeficiente de determinación para geo_1\n",
    "\n",
    "model_1 = LinearRegression()\n",
    "model_1.fit(set_data(geo_1)[0], set_data(geo_1)[1])\n",
    "predictions_1 = model_1.predict(set_data(geo_1)[2])\n",
    "r2 = r2_score(set_data(geo_1)[3], predictions_1)\n",
    "\n",
    "mse = mean_squared_error(set_data(geo_1)[3], predictions_1)\n",
    "mean = set_data(geo_1)[3].mean()\n",
    "\n",
    "print('Linear Regression')\n",
    "print('RMSE =', mse ** 0.5)\n",
    "print('-'*50)\n",
    "print('Promedio =', predictions_1.mean())\n",
    "print('-'*50)\n",
    "print('Coeficiente de determinación')\n",
    "print('R2 =',r2)"
   ]
  },
  {
   "cell_type": "markdown",
   "id": "c11463c0",
   "metadata": {},
   "source": [
    "<div class=\"alert alert-block alert-warning\">\n",
    "<b>Comentarios del Revisor</b> <a class=\"tocSkip\"></a>\n",
    "La implementación del modelo de regresión lineal es correcta, pero se sugiere no llamar tantas veces a<code>set_data</code>, podrías guardar las variables que retorna en una variable, de manera que el código se vea más limpio y legible.\n",
    "</div>"
   ]
  },
  {
   "cell_type": "markdown",
   "id": "49c7551f",
   "metadata": {},
   "source": [
    "La predicción del modelo es algo mejor que la media, se debe de mejorar aún más para ser destacable."
   ]
  },
  {
   "cell_type": "code",
   "execution_count": 9,
   "id": "5536155f",
   "metadata": {},
   "outputs": [
    {
     "name": "stdout",
     "output_type": "stream",
     "text": [
      "Linear Regression\n",
      "RMSE = 0.893099286775617\n",
      "--------------------------------------------------\n",
      "Promedio = 68.728546895446\n",
      "--------------------------------------------------\n",
      "Coeficiente de determinación\n",
      "R2 = 0.9996233978805127\n"
     ]
    }
   ],
   "source": [
    "# elaboraación del modelo (regresión lineal) y observación de la métrica de coeficiente de determinación para geo_2\n",
    "\n",
    "model_2 = LinearRegression()\n",
    "model_2.fit(set_data(geo_2)[0], set_data(geo_2)[1])\n",
    "predictions_2 = model_2.predict(set_data(geo_2)[2])\n",
    "r2 = r2_score(set_data(geo_2)[3], predictions_2)\n",
    "\n",
    "mse = mean_squared_error(set_data(geo_2)[3], predictions_2)\n",
    "mean = set_data(geo_2)[3].mean()\n",
    "\n",
    "print('Linear Regression')\n",
    "print('RMSE =', mse ** 0.5)\n",
    "print('-'*50)\n",
    "print('Promedio =', predictions_2.mean())\n",
    "print('-'*50)\n",
    "print('Coeficiente de determinación')\n",
    "print('R2 =',r2)"
   ]
  },
  {
   "cell_type": "markdown",
   "id": "70046c5f",
   "metadata": {},
   "source": [
    "La predicción en esta región de pozos es mucho mejor, casi perfecta."
   ]
  },
  {
   "cell_type": "code",
   "execution_count": 10,
   "id": "5b63f3fd",
   "metadata": {},
   "outputs": [
    {
     "name": "stdout",
     "output_type": "stream",
     "text": [
      "Linear Regression\n",
      "RMSE = 40.02970873393434\n",
      "--------------------------------------------------\n",
      "Promedio = 94.96504596800489\n",
      "--------------------------------------------------\n",
      "Coeficiente de determinación\n",
      "R2 = 0.20524758386040443\n"
     ]
    }
   ],
   "source": [
    "# elaboraación del modelo (regresión lineal) y observación de la métrica de coeficiente de determinación para geo_3\n",
    "\n",
    "model_3 = LinearRegression()\n",
    "model_3.fit(set_data(geo_3)[0], set_data(geo_3)[1])\n",
    "predictions_3 = model_3.predict(set_data(geo_3)[2])\n",
    "r2 = r2_score(set_data(geo_3)[3], predictions_3)\n",
    "\n",
    "mse = mean_squared_error(set_data(geo_3)[3], predictions_3)\n",
    "mean = set_data(geo_3)[3].mean()\n",
    "\n",
    "print('Linear Regression')\n",
    "print('RMSE =', mse ** 0.5)\n",
    "print('-'*50)\n",
    "print('Promedio =', predictions_3.mean())\n",
    "print('-'*50)\n",
    "print('Coeficiente de determinación')\n",
    "print('R2 =',r2)"
   ]
  },
  {
   "cell_type": "markdown",
   "id": "e15df026",
   "metadata": {},
   "source": [
    "\n",
    "\n",
    "<div class=\"alert alert-block alert-success\">\n",
    "<b>Comentario del revisor</b> <a class=“tocSkip”></a>\n",
    "Los valores para RMSE y el volumen promedio de reservas (Promedio), es correcto.\n",
    "</div>\n"
   ]
  },
  {
   "cell_type": "markdown",
   "id": "146d63f8",
   "metadata": {},
   "source": [
    "Al igual que el modelo del primer conjunto de datos (`geo_1`), este modelo enfrente apenas una mejoría al promedio de predictivo que hace.\n",
    "\n",
    "### Hallazgos preliminares\n",
    "\n",
    "Se observa que el conjunto de datos pertenecientes a `geo_2`, se logró entrenar un modelo altamente sensible y de calidad, sin embargo, el promedio en el volumen del crudo es significativamente menor que en los otros dos conjuntos de datos información que se puede corroborar con un estudio de intervalo de confianza donde la hipótesis nula (**H0**) es que le media de ambas poblaciones es estadísticamente igual y la hipótesis alternativa (**H1**) expresa que ambas medias poblacionales son diferentes."
   ]
  },
  {
   "cell_type": "code",
   "execution_count": 11,
   "id": "5b9d6f6d",
   "metadata": {},
   "outputs": [
    {
     "name": "stdout",
     "output_type": "stream",
     "text": [
      "p-value: 1.1275069262433447e-34\n",
      "Rechazamos la hipótesis nula\n"
     ]
    }
   ],
   "source": [
    "# comparación entre geo_1 y geo_2\n",
    "results = st.ttest_ind(predictions_1, predictions_3, equal_var=False) \n",
    "alpha = 0.01\n",
    "\n",
    "print('p-value:', results.pvalue)\n",
    "\n",
    "if (results.pvalue < alpha):\n",
    "    print(\"Rechazamos la hipótesis nula\")\n",
    "else:\n",
    "    print(\"No rechazamos la hipótesis nula\")"
   ]
  },
  {
   "cell_type": "code",
   "execution_count": 12,
   "id": "d44ee542",
   "metadata": {},
   "outputs": [
    {
     "name": "stdout",
     "output_type": "stream",
     "text": [
      "p-value: 0.0\n",
      "Rechazamos la hipótesis nula\n"
     ]
    }
   ],
   "source": [
    "# comparación entre geo_2 y geo_3\n",
    "results = st.ttest_ind(predictions_2, predictions_3, equal_var=False) \n",
    "alpha = 0.01\n",
    "\n",
    "print('p-value:', results.pvalue)\n",
    "\n",
    "if (results.pvalue < alpha):\n",
    "    print(\"Rechazamos la hipótesis nula\")\n",
    "else:\n",
    "    print(\"No rechazamos la hipótesis nula\")"
   ]
  },
  {
   "cell_type": "code",
   "execution_count": 13,
   "id": "363bb99a",
   "metadata": {},
   "outputs": [
    {
     "name": "stdout",
     "output_type": "stream",
     "text": [
      "p-value: 0.0\n",
      "Rechazamos la hipótesis nula\n"
     ]
    }
   ],
   "source": [
    "# comparación entre geo_1 y geo_3\n",
    "results = st.ttest_ind(predictions_2, predictions_3, equal_var=False) \n",
    "alpha = 0.01\n",
    "\n",
    "print('p-value:', results.pvalue)\n",
    "\n",
    "if (results.pvalue < alpha):\n",
    "    print(\"Rechazamos la hipótesis nula\")\n",
    "else:\n",
    "    print(\"No rechazamos la hipótesis nula\")"
   ]
  },
  {
   "cell_type": "markdown",
   "id": "a33100be",
   "metadata": {},
   "source": [
    "Se debe de mejorar el modelo predictivo para `geo_1` y `geo_3` por lo cual se hará uso de la técnica de validación cruzada"
   ]
  },
  {
   "cell_type": "code",
   "execution_count": 14,
   "id": "9a0097ab",
   "metadata": {},
   "outputs": [
    {
     "name": "stdout",
     "output_type": "stream",
     "text": [
      "Valor de calidad promedio del modelo: 0.27547024205606097\n"
     ]
    }
   ],
   "source": [
    "# rendimiento del modelo para geo_1\n",
    "features = geo_1.drop(['id', 'product'], axis = 1)\n",
    "target = geo_1['product']\n",
    "model_1_improved = LinearRegression()\n",
    "\n",
    "scores = cross_val_score(model_1_improved, features, target, cv=10)\n",
    "final_score = sum(scores)/len(scores)\n",
    "print('Valor de calidad promedio del modelo:', final_score)"
   ]
  },
  {
   "cell_type": "code",
   "execution_count": 15,
   "id": "ea69428f",
   "metadata": {},
   "outputs": [
    {
     "name": "stdout",
     "output_type": "stream",
     "text": [
      "Valor de calidad promedio del modelo: 0.19867018805197606\n"
     ]
    }
   ],
   "source": [
    "# rendimiento del modelo para geo_3\n",
    "features = geo_3.drop(['id', 'product'], axis = 1)\n",
    "target = geo_3['product']\n",
    "model_3_improved = LinearRegression()\n",
    "\n",
    "scores = cross_val_score(model_3_improved, features, target, cv=10)\n",
    "final_score = sum(scores)/len(scores)\n",
    "print('Valor de calidad promedio del modelo:', final_score)"
   ]
  },
  {
   "cell_type": "markdown",
   "id": "e53181a4",
   "metadata": {},
   "source": [
    "## Cálculo de ganancias\n"
   ]
  },
  {
   "cell_type": "code",
   "execution_count": 16,
   "id": "6a37925c",
   "metadata": {
    "scrolled": true
   },
   "outputs": [
    {
     "name": "stdout",
     "output_type": "stream",
     "text": [
      "El volúmen mínimo de crudo en miles de barriles que se debe de cubrir para obtener ganancias es de: 22223\n",
      "------------------------------------------------------------\n",
      "Límite de pozos petroleros: 200\n",
      "Presupuesto: 100 000 000 USD\n",
      "------------------------------------------------------------\n",
      "Promedio de presupuesto por pozo: 500000 USD\n",
      "Volumen de petróleo necesario (en millones de barriles) para cubrir costo: 111\n"
     ]
    }
   ],
   "source": [
    "# cálculo del volumen de crudo mínimo con base en el presupuesto para generar rendimiento\n",
    "threshold = 100e6 / 4500\n",
    "print(f'El volúmen mínimo de crudo en miles de barriles que se debe de cubrir para obtener ganancias es de: {math.ceil(threshold)}')\n",
    "print('-'*60)\n",
    "print('Límite de pozos petroleros: 200')\n",
    "print('Presupuesto: 100 000 000 USD')\n",
    "print('-'*60)\n",
    "pres_pozo = int(100e6/200)\n",
    "print(f'Promedio de presupuesto por pozo: {pres_pozo} USD')\n",
    "barr_cost = int(pres_pozo/4500)\n",
    "print('Volumen de petróleo necesario (en millones de barriles) para cubrir costo:', barr_cost)"
   ]
  },
  {
   "cell_type": "markdown",
   "id": "d141bb0c",
   "metadata": {},
   "source": [
    "<div class=\"alert alert-block alert-success\">\n",
    "<b>Comentario del revisor</b> <a class=\"tocSkip\"></a>\n",
    "    \n",
    "Buen trabajo encontrando el punto de equilibrio o costo unitario por pozo. 111.111\n",
    "</div>\n",
    "\n",
    "El promedio del volumen de los pozos (en miles de barriles) para la región seleccionada debe de cubrir almenos los 111, por lo cuales todo punto de pozo que no alcance con este threshold se considerará en pérdida. En análisis preliminares se ha observado que el volumen promedio de las tres regiones estudiadas sobrepasan el threshold calculado por lo que existe alta probabilidad de generar ganancias en cualquiera de las regiones, sin embargo, el punto de este estudio es seleccionar la region que con base en predicciones obtendríamos la mayor cantidad de ganancias, siendo la predicción y la probabilidad de encontrar pozos con altos volúmenes de crudo son la clave."
   ]
  },
  {
   "cell_type": "markdown",
   "id": "4af3b358",
   "metadata": {},
   "source": [
    "Los valores que se expresan en las columnas de `product`, está expresado en miles de barriles por unidad, cada unidad equivale a 4500 USD; el presupuesto para el desarrollo de 200 pozos petroleros es de 100 000 000 USD lo que correspone a tener un mínimo de volumen (threshold) de 22223 miles de barriles, se debe encontrar la máxima cantidad de volumen para obtener el máximo beneficio."
   ]
  },
  {
   "cell_type": "code",
   "execution_count": 17,
   "id": "54e9cf25",
   "metadata": {},
   "outputs": [],
   "source": [
    "points = 500\n",
    "best_points = 200\n",
    "budget_200 = 100000000\n",
    "revenue_per_barril = 4.5\n",
    "revenue_per_unit = 4500\n",
    "cost_one = budget_200/best_points\n",
    "\n",
    "def revenue(target, predictions, count):\n",
    "    \n",
    "    # Tomamos las predicciones y las ordenamos de forma descendente\n",
    "    predictions_sorted = pd.Series(predictions).sort_values(ascending=False)\n",
    "    # Seleccionamos los n pozos del objetivo en base a los índices de las predicciones más altas\n",
    "    selected = target.reset_index(drop=True).iloc[predictions_sorted.index][:count]\n",
    "    \n",
    "    # Calculamos el volumen total, sumando el volumen de reservas de n pozos seleccionados\n",
    "    volume_total = selected.sum()\n",
    "    # Calculamos el ingreso multiplicando el volumen total por las ganancias por unidad de producto\n",
    "    income = volume_total * revenue_per_unit\n",
    "    # Calculamos el costo por el desarrollo de n pozos, considerando que la construcción de un pozo necesita 500000 \n",
    "    cost = count * cost_one\n",
    "    \n",
    "    # Calculamos el beneficio bruto restando el costo de los ingresos\n",
    "    return income - cost"
   ]
  },
  {
   "cell_type": "code",
   "execution_count": 31,
   "id": "e7aa48bb",
   "metadata": {},
   "outputs": [],
   "source": [
    "total_points = 500\n",
    "top_points = 200\n",
    "budget_for_top = 100000000\n",
    "revenue_per_barrel = 4.5\n",
    "revenue_per_unit = 4500\n",
    "cost_per_well = budget_for_top / top_points\n",
    "\n",
    "def revenue2(targets, predictions2, n):\n",
    "    # Sort the predictions in descending order\n",
    "    sorted_predictions = pd.Series(predictions2).sort_values(ascending=False)\n",
    "    # Select the top n wells based on the indices of the highest predictions\n",
    "    selected_wells = targets.reset_index(drop=True).iloc[sorted_predictions.index][:n]\n",
    "\n",
    "    # Calculate the total volume by adding the volumes of the selected wells\n",
    "    total_volume = selected_wells.sum()\n",
    "    # Calculate the revenue by multiplying the total volume by the revenue per unit\n",
    "    revenue = total_volume * revenue_per_unit\n",
    "    # Calculate the cost of developing n wells, assuming each well costs 500000 to build\n",
    "    cost = n * cost_per_well\n",
    "\n",
    "    # Calculate the gross profit by subtracting the cost from the revenue\n",
    "    return revenue - cost"
   ]
  },
  {
   "cell_type": "code",
   "execution_count": 18,
   "id": "96a3d4f4",
   "metadata": {},
   "outputs": [
    {
     "data": {
      "text/plain": [
       "array([ 4.98098667,  6.56947671,  8.79853138, 10.20935123, 12.32619867,\n",
       "       16.12524522, 18.01408074, 18.18592913, 18.27234303, 19.07713936,\n",
       "       19.72255524, 20.15961651, 20.22056248, 20.23388967, 20.66426595,\n",
       "       21.27246286, 21.76524715, 22.30136017, 22.32804685, 22.55882979,\n",
       "       22.75767918, 23.12937404, 23.5145081 , 23.67866784])"
      ]
     },
     "execution_count": 18,
     "metadata": {},
     "output_type": "execute_result"
    }
   ],
   "source": [
    "predictions_1.sort()\n",
    "predictions_1[1:25]"
   ]
  },
  {
   "cell_type": "code",
   "execution_count": 19,
   "id": "90307393",
   "metadata": {},
   "outputs": [
    {
     "data": {
      "text/plain": [
       "25000"
      ]
     },
     "execution_count": 19,
     "metadata": {},
     "output_type": "execute_result"
    }
   ],
   "source": [
    "len(predictions_1)"
   ]
  },
  {
   "cell_type": "code",
   "execution_count": 20,
   "id": "e56cb193",
   "metadata": {},
   "outputs": [
    {
     "data": {
      "text/plain": [
       "92.5"
      ]
     },
     "execution_count": 20,
     "metadata": {},
     "output_type": "execute_result"
    }
   ],
   "source": [
    "round(geo_1['product'].mean(),3)"
   ]
  },
  {
   "cell_type": "code",
   "execution_count": 32,
   "id": "690b21a4",
   "metadata": {},
   "outputs": [],
   "source": [
    "revenue_1 = revenue(set_data(geo_1)[3].sort_values(), predictions_1, 200)"
   ]
  },
  {
   "cell_type": "code",
   "execution_count": 35,
   "id": "ea8a5fe5",
   "metadata": {},
   "outputs": [],
   "source": [
    "target_valid_1 = set_data(geo_1)[3]"
   ]
  },
  {
   "cell_type": "code",
   "execution_count": 36,
   "id": "7a463d58",
   "metadata": {},
   "outputs": [
    {
     "data": {
      "text/plain": [
       "-18457577.478959188"
      ]
     },
     "execution_count": 36,
     "metadata": {},
     "output_type": "execute_result"
    }
   ],
   "source": [
    "revenue2(target_valid_1, predictions_1, 200)"
   ]
  },
  {
   "cell_type": "code",
   "execution_count": 26,
   "id": "f4710d76",
   "metadata": {},
   "outputs": [
    {
     "data": {
      "text/plain": [
       "2314814.1946095093"
      ]
     },
     "execution_count": 26,
     "metadata": {},
     "output_type": "execute_result"
    }
   ],
   "source": [
    "predictions_1.sort()\n",
    "predictions_1[1:25]\n",
    "predictions_1.sum()"
   ]
  },
  {
   "cell_type": "code",
   "execution_count": 25,
   "id": "ebf2db3a",
   "metadata": {},
   "outputs": [
    {
     "data": {
      "text/plain": [
       "2301964.918520732"
      ]
     },
     "execution_count": 25,
     "metadata": {},
     "output_type": "execute_result"
    }
   ],
   "source": [
    "set_data(geo_1)[3].sort_values().sum()"
   ]
  },
  {
   "cell_type": "code",
   "execution_count": 24,
   "id": "2b25e719",
   "metadata": {},
   "outputs": [
    {
     "data": {
      "text/plain": [
       "65109475.803188115"
      ]
     },
     "execution_count": 24,
     "metadata": {},
     "output_type": "execute_result"
    }
   ],
   "source": [
    "revenue_1"
   ]
  },
  {
   "cell_type": "code",
   "execution_count": 27,
   "id": "2fbdb4a5",
   "metadata": {},
   "outputs": [],
   "source": [
    "def cal_profit(target):\n",
    "    profit = (pd.Series(target)\n",
    "              .sort_values(ascending=False)-111.111).head(200).sum()\n",
    "    return profit"
   ]
  },
  {
   "cell_type": "code",
   "execution_count": 28,
   "id": "3f4c76a1",
   "metadata": {
    "scrolled": false
   },
   "outputs": [
    {
     "data": {
      "text/html": [
       "<div>\n",
       "<style scoped>\n",
       "    .dataframe tbody tr th:only-of-type {\n",
       "        vertical-align: middle;\n",
       "    }\n",
       "\n",
       "    .dataframe tbody tr th {\n",
       "        vertical-align: top;\n",
       "    }\n",
       "\n",
       "    .dataframe thead th {\n",
       "        text-align: right;\n",
       "    }\n",
       "</style>\n",
       "<table border=\"1\" class=\"dataframe\">\n",
       "  <thead>\n",
       "    <tr style=\"text-align: right;\">\n",
       "      <th></th>\n",
       "      <th>region</th>\n",
       "      <th>product</th>\n",
       "      <th>revenue</th>\n",
       "    </tr>\n",
       "  </thead>\n",
       "  <tbody>\n",
       "    <tr>\n",
       "      <th>0</th>\n",
       "      <td>region1</td>\n",
       "      <td>8880.130839</td>\n",
       "      <td>39960588</td>\n",
       "    </tr>\n",
       "    <tr>\n",
       "      <th>1</th>\n",
       "      <td>region2</td>\n",
       "      <td>5523.826782</td>\n",
       "      <td>24857220</td>\n",
       "    </tr>\n",
       "    <tr>\n",
       "      <th>2</th>\n",
       "      <td>region3</td>\n",
       "      <td>7381.698658</td>\n",
       "      <td>33217643</td>\n",
       "    </tr>\n",
       "  </tbody>\n",
       "</table>\n",
       "</div>"
      ],
      "text/plain": [
       "    region      product   revenue\n",
       "0  region1  8880.130839  39960588\n",
       "1  region2  5523.826782  24857220\n",
       "2  region3  7381.698658  33217643"
      ]
     },
     "execution_count": 28,
     "metadata": {},
     "output_type": "execute_result"
    }
   ],
   "source": [
    "product_predict = []\n",
    "for i in [predictions_1, predictions_2, predictions_3]:\n",
    "    product_predict.append(cal_profit(i))\n",
    "region = ['region_1', 'region_2', 'region_3']\n",
    "df_cal_profit = pd.DataFrame(data= {\n",
    "    'region' : ['region1','region2','region3'],\n",
    "    'product' : product_predict})\n",
    "df_cal_profit['revenue'] = (df_cal_profit['product']*4500).astype(int)\n",
    "df_cal_profit"
   ]
  },
  {
   "cell_type": "markdown",
   "id": "fed2ac7f",
   "metadata": {},
   "source": [
    "\n",
    "<div class=\"alert alert-block alert-info\">\n",
    "<b>Comentarios del Revisor</b> <a class=\"tocSkip\"></a>\n",
    "¡Buen trabajo en el análisis de datos! Sin embargo, he notado que la función cal_profit puede no estar aplicando correctamente las reglas de negocio. Te sugiero revisar las reglas de negocio una vez más y ajustar la fórmula de la función en consecuencia. En particular, la fórmula que se debe seguir es ata * precio - inversion_pozo.\n",
    "\n",
    "Para ayudarte en tu revisión, te proporciono una tabla con valores aproximados que deberías obtener:\n",
    "    \n",
    "¡Sigue adelante con tu trabajo! Estoy seguro de que puedes solucionarlo pronto.\n",
    "\n",
    "</div>"
   ]
  },
  {
   "cell_type": "markdown",
   "id": "2887cf30",
   "metadata": {},
   "source": [
    "| region   | revenue      | Product \n",
    "|----------|--------------|--------------------------------\n",
    "| Región 1 | 33 208 280   | 29601                 \n",
    "| Región 2 | 24 150 860   | 27589                   \n",
    "| Región 3 | 27 103 490   | 28245                 \n"
   ]
  },
  {
   "cell_type": "code",
   "execution_count": 18,
   "id": "146751b5",
   "metadata": {},
   "outputs": [
    {
     "name": "stdout",
     "output_type": "stream",
     "text": [
      "Ganancias máximas con base en los mejores pozos estudiados en la región 1 y sin predicción: 0.0147 millones de USD\n",
      "------------------------------------------------------------------------------------------------------------------------\n",
      "Ganancias máximas con base en los mejores pozos estudiados en la región 2 y sin predicción: 0.0054 millones de USD\n",
      "------------------------------------------------------------------------------------------------------------------------\n",
      "Ganancias máximas con base en los mejores pozos estudiados en la región 3 y sin predicción: 0.0157 millones de USD\n",
      "------------------------------------------------------------------------------------------------------------------------\n"
     ]
    }
   ],
   "source": [
    "# calcular el beneficio máximo de obtener sólo los pozos de mayor volumen que ya fueron muestreados, mas no predecidos.\n",
    "profit_geo_1 = round(cal_profit(geo_1['product'])/1e6,4)\n",
    "profit_geo_2 = round(cal_profit(geo_2['product'])/1e6,4)\n",
    "profit_geo_3 = round(cal_profit(geo_3['product'])/1e6,4)\n",
    "print(f'Ganancias máximas con base en los mejores pozos estudiados en la región 1 y sin predicción: {profit_geo_1} millones de USD')\n",
    "print('-'*120)\n",
    "print(f'Ganancias máximas con base en los mejores pozos estudiados en la región 2 y sin predicción: {profit_geo_2} millones de USD')\n",
    "print('-'*120)\n",
    "print(f'Ganancias máximas con base en los mejores pozos estudiados en la región 3 y sin predicción: {profit_geo_3} millones de USD')\n",
    "print('-'*120)"
   ]
  },
  {
   "cell_type": "markdown",
   "id": "2b349791",
   "metadata": {},
   "source": [
    "Se debe tomar un punto importante que es la toma de los mejores 200 pozos de cada región sin usar ningún modelo de predicción. Es necesario hacer el uso de modelos predictivos sobre las características de cada pozo para predecir dónde se pudiera tener un beneficio máximo sin necesidad de hacer perforaciones previas, de aquí la necesidad de crear buenos modelos predictivos y de paso, seleccionar la mejor región donde exista una excelente predicción y el mayor beneficio en ganancias."
   ]
  },
  {
   "cell_type": "markdown",
   "id": "012d8fd9",
   "metadata": {},
   "source": [
    "## Cálculo de riesgos con respecto a las características del pozo"
   ]
  },
  {
   "cell_type": "markdown",
   "id": "d28cf253",
   "metadata": {},
   "source": [
    "Se pretende realizar un análisis del cálculo de riesgo conr especto a las características de cada uno de los pozos independientemente de la región pero sí dependientre del modelo predictivo."
   ]
  },
  {
   "cell_type": "code",
   "execution_count": 19,
   "id": "0d17e8f6",
   "metadata": {},
   "outputs": [],
   "source": [
    "def cal_risk(df, model):\n",
    "    prediction = df[['f0','f1','f2']]\n",
    "    df['prediction'] = model.predict(prediction)\n",
    "    df['pred_profitable'] = df['prediction'] > threshold/200\n",
    "    df['real_profitable'] = df['product'] > threshold/200\n",
    "    df['profit'] = df['product']*4500\n",
    "    df['predict_profit'] = df['prediction']*4500\n",
    "    risk = df['pred_profitable'].value_counts(normalize = True)[False]\n",
    "    real_risk = df['real_profitable'].value_counts(normalize = True)[False]\n",
    "    print(f'Riesgo de que cada uno de los pozos estudiados en esta región genere pérdidas (con modelo predictivo): {risk:.1%}')\n",
    "    print(f'Riesgo real para cada uno de los pozos estudiados (sin modelo predictivo) en esta región genere pérdidas: {real_risk:.1%}')\n",
    "#     return risk, real_risk, df"
   ]
  },
  {
   "cell_type": "code",
   "execution_count": 20,
   "id": "91a209e7",
   "metadata": {},
   "outputs": [
    {
     "name": "stdout",
     "output_type": "stream",
     "text": [
      "Riesgo de que cada uno de los pozos estudiados en esta región genere pérdidas (con modelo predictivo): 78.6%\n",
      "Riesgo real para cada uno de los pozos estudiados (sin modelo predictivo) en esta región genere pérdidas: 63.4%\n"
     ]
    }
   ],
   "source": [
    "# Para la tregión `geo_1`:\n",
    "cal_risk(geo_1, model_1)"
   ]
  },
  {
   "cell_type": "code",
   "execution_count": 21,
   "id": "13d05350",
   "metadata": {},
   "outputs": [
    {
     "name": "stdout",
     "output_type": "stream",
     "text": [
      "Riesgo de que cada uno de los pozos estudiados en esta región genere pérdidas (con modelo predictivo): 81.8%\n",
      "Riesgo real para cada uno de los pozos estudiados (sin modelo predictivo) en esta región genere pérdidas: 83.5%\n"
     ]
    }
   ],
   "source": [
    "# Para la tregión `geo_2`:\n",
    "cal_risk(geo_2, model_2)"
   ]
  },
  {
   "cell_type": "code",
   "execution_count": 22,
   "id": "88e118e4",
   "metadata": {},
   "outputs": [
    {
     "name": "stdout",
     "output_type": "stream",
     "text": [
      "Riesgo de que cada uno de los pozos estudiados en esta región genere pérdidas (con modelo predictivo): 78.9%\n",
      "Riesgo real para cada uno de los pozos estudiados (sin modelo predictivo) en esta región genere pérdidas: 61.8%\n"
     ]
    }
   ],
   "source": [
    "# Para la tregión `geo_3`:\n",
    "cal_risk(geo_3, model_3)"
   ]
  },
  {
   "cell_type": "markdown",
   "id": "d73dcb57",
   "metadata": {},
   "source": [
    "Al observar los resultados se obtiene un fuerte elemento para determinar en qué región es más probable tener ganancias con base al modelo predictivo y a las características del pozo, esta información es pieza medular al momento de elegir la eficiencia depredicción y de éxito de encontrar un buen pozo."
   ]
  },
  {
   "cell_type": "markdown",
   "id": "519ed380",
   "metadata": {},
   "source": [
    "Lo anterior es tomando en cuenta el modelo predictivo tomando en cuenta **TODOS** los pozos y su modelo predictivo, mostrando mejora al usar el modelo predictivo de la región 2 `geo_2` incluso aúnteniendo pozos que presentan altas pérdidas."
   ]
  },
  {
   "cell_type": "markdown",
   "id": "586e428f",
   "metadata": {},
   "source": [
    "## Cálculo de beneficio predictivo por región"
   ]
  },
  {
   "cell_type": "markdown",
   "id": "5da2f643",
   "metadata": {},
   "source": [
    "\n",
    "<div class=\"alert alert-block alert-info\">\n",
    "<b>Respuesta del estudiante</b> <a class=“tocSkip”></a>\n",
    "    Con el fin de tener un feedback y de evitar eliminar código que tal vez quisiera repasar, lo dejé en forma de texto, una vez que se apruebe el proyecto, lo eliminaría. Gracias por comprenderlo.\n",
    "</div>"
   ]
  },
  {
   "cell_type": "code",
   "execution_count": 23,
   "id": "4d5ee8b6",
   "metadata": {},
   "outputs": [],
   "source": [
    "# def profit_estimate(df, predictions):\n",
    "#     if predictions == True:\n",
    "#         top_200_df = round(df['predict_profit'].sort_values(ascending=False).head(200))\n",
    "#     else:\n",
    "#         top_200_df = round(df['profit'].sort_values(ascending=False).head(200))\n",
    "#     # Muestras para el bootstrap\n",
    "#     imput_bootsamples = []\n",
    "    \n",
    "#     for i in range(1000):\n",
    "#         imput_bootsamples.append(top_200_df.sample(1000, replace=True).mean())\n",
    "#     imput_bootsamples = round(pd.Series(imput_bootsamples),0)\n",
    "#     min_lim = round(imput_bootsamples.mean() - imput_bootsamples.std()*2,0)\n",
    "#     max_lim = round(imput_bootsamples.mean() + imput_bootsamples.std()*2,0)\n",
    "#     total_profit = ((imput_bootsamples.mean()*200)-1e8)/1e8\n",
    "\n",
    "#     return (f'Promedio del top 200: ${top_200_df.mean()} USD', \n",
    "#             f'Ingreso promedio usando bootstramp: ${imput_bootsamples.mean()} USD',\n",
    "#             f'Error estándar de la media: {imput_bootsamples.sem()}',\n",
    "#             f'Intérvalo de confianza con alpha de 0.955 de la media: ({min_lim},{max_lim})',\n",
    "#             f'Margen de beneficio neto: {total_profit:.1%}',\n",
    "#             total_profit,\n",
    "#             imput_bootsamples)"
   ]
  },
  {
   "cell_type": "markdown",
   "id": "761e5171",
   "metadata": {},
   "source": [
    "<div class=\"alert alert-block alert-danger\">\n",
    "<b>Comentario del revisor</b> <a class=\"tocSkip\"></a>\n",
    "    \n",
    "¡Hola! Parece que hay un pequeño problema con la función de ganancias, ya que no está calculando los valores de manera correcta. No te preocupes, podemos revisar y solucionar este problema juntos. Te comparto mi definición de la función para ver si ves algo que pueda guiarte. <br><code>\n",
    "def revenue(target, predicted, n):\n",
    "    predicted = pd.Series(predicted)\n",
    "    target = target.reset_index(drop=True)\n",
    "    indices = predicted.sort_values(ascending=False).index \n",
    "    return (target.loc[indices][:n].sum() * income_per_volume) - (well_cost * n) </code>\n",
    "</div>"
   ]
  },
  {
   "cell_type": "code",
   "execution_count": 24,
   "id": "875ed3d7",
   "metadata": {},
   "outputs": [],
   "source": [
    "#extracción de submuestra para bootstrap\n",
    "state = RandomState(20692)"
   ]
  },
  {
   "cell_type": "code",
   "execution_count": 25,
   "id": "feeed52a",
   "metadata": {},
   "outputs": [],
   "source": [
    "# crear una función que calcule ganancias utilizando bootstrap\n",
    "\n",
    "def revenue(df,n):\n",
    "    stats= []\n",
    "    reve_list = []\n",
    "    bootstrap_samples = n\n",
    "    for i in range(bootstrap_samples):\n",
    "        step = df.sample(frac=.005, replace=True, random_state=state)\n",
    "        target = step['product']\n",
    "        predicciones = step['prediction']\n",
    "        indices = predicciones.sort_values(ascending=False).index\n",
    "        bt_revenue = (target.loc[indices][:200].sum()*4500)-(500000*200)\n",
    "        reve_list.append(bt_revenue)\n",
    "    reve_list = pd.Series(reve_list)\n",
    "    \n",
    "    risk = len(reve_list[reve_list < 0]) / len(reve_list)\n",
    "    \n",
    "    stats = pd.DataFrame(data = {\n",
    "        'mean_profit' : [reve_list.mean().astype(int)],\n",
    "        'low_conf_interval' : [reve_list.quantile(0.025).astype(int)],\n",
    "        'up_conf_interval' : [reve_list.quantile(0.0975).astype(int)],\n",
    "        'lost_risk_%' : risk*100\n",
    "    })\n",
    "    return stats"
   ]
  },
  {
   "cell_type": "code",
   "execution_count": 26,
   "id": "4ca5afd9",
   "metadata": {},
   "outputs": [
    {
     "data": {
      "text/html": [
       "<div>\n",
       "<style scoped>\n",
       "    .dataframe tbody tr th:only-of-type {\n",
       "        vertical-align: middle;\n",
       "    }\n",
       "\n",
       "    .dataframe tbody tr th {\n",
       "        vertical-align: top;\n",
       "    }\n",
       "\n",
       "    .dataframe thead th {\n",
       "        text-align: right;\n",
       "    }\n",
       "</style>\n",
       "<table border=\"1\" class=\"dataframe\">\n",
       "  <thead>\n",
       "    <tr style=\"text-align: right;\">\n",
       "      <th></th>\n",
       "      <th>mean_profit</th>\n",
       "      <th>low_conf_interval</th>\n",
       "      <th>up_conf_interval</th>\n",
       "      <th>lost_risk_%</th>\n",
       "    </tr>\n",
       "  </thead>\n",
       "  <tbody>\n",
       "    <tr>\n",
       "      <th>0</th>\n",
       "      <td>4516986</td>\n",
       "      <td>-701677</td>\n",
       "      <td>1278754</td>\n",
       "      <td>5.2</td>\n",
       "    </tr>\n",
       "    <tr>\n",
       "      <th>1</th>\n",
       "      <td>4543790</td>\n",
       "      <td>535596</td>\n",
       "      <td>1858967</td>\n",
       "      <td>1.4</td>\n",
       "    </tr>\n",
       "    <tr>\n",
       "      <th>2</th>\n",
       "      <td>3721744</td>\n",
       "      <td>-1855207</td>\n",
       "      <td>67727</td>\n",
       "      <td>9.4</td>\n",
       "    </tr>\n",
       "  </tbody>\n",
       "</table>\n",
       "</div>"
      ],
      "text/plain": [
       "   mean_profit  low_conf_interval  up_conf_interval  lost_risk_%\n",
       "0      4516986            -701677           1278754          5.2\n",
       "1      4543790             535596           1858967          1.4\n",
       "2      3721744           -1855207             67727          9.4"
      ]
     },
     "execution_count": 26,
     "metadata": {},
     "output_type": "execute_result"
    }
   ],
   "source": [
    "# Condensar toda la información acerca de las ganancias\n",
    "stats_region_1 = revenue(geo_1,500)\n",
    "stats_region_2 = revenue(geo_2,500)\n",
    "stats_region_3 = revenue(geo_3,500)\n",
    "statics_region = stats_region_1\n",
    "statics_region = statics_region.append(stats_region_2, ignore_index=True)\n",
    "statics_region = statics_region.append(stats_region_3, ignore_index=True)\n",
    "statics_region"
   ]
  },
  {
   "cell_type": "markdown",
   "id": "23603204",
   "metadata": {},
   "source": [
    "<div class=\"alert alert-block alert-success\">\n",
    "<b>Comentario del revisor</b> <a class=\"tocSkip\"></a>\n",
    "correcto. Implementaste bootstrapping con 500 puntos y calculas el intervalo de confianza. \n",
    "</div>"
   ]
  },
  {
   "cell_type": "code",
   "execution_count": 27,
   "id": "e3c90b16",
   "metadata": {
    "scrolled": false
   },
   "outputs": [],
   "source": [
    "# profit_estimate(geo_1, True)[6].hist(bins=100)\n",
    "# profit_estimate(geo_1, True)[0:5]"
   ]
  },
  {
   "cell_type": "code",
   "execution_count": 28,
   "id": "eafca6ce",
   "metadata": {},
   "outputs": [],
   "source": [
    "# profit_estimate(geo_1, False)[6].hist(bins=100)\n",
    "# profit_estimate(geo_1, False)[0:5]"
   ]
  },
  {
   "cell_type": "code",
   "execution_count": 29,
   "id": "c819f614",
   "metadata": {
    "scrolled": false
   },
   "outputs": [],
   "source": [
    "# profit_estimate(geo_2, True)[6].hist(bins=100)\n",
    "# profit_estimate(geo_2, True)[0:5]"
   ]
  },
  {
   "cell_type": "code",
   "execution_count": 30,
   "id": "77da1dd0",
   "metadata": {},
   "outputs": [],
   "source": [
    "# geo_2['prediction'].hist(bins=100)\n",
    "# geo_2['product'].hist(bins=100)"
   ]
  },
  {
   "cell_type": "code",
   "execution_count": 31,
   "id": "958e8ba6",
   "metadata": {},
   "outputs": [],
   "source": [
    "# profit_estimate(geo_2, False)[6].hist(bins=100)\n",
    "# profit_estimate(geo_2, False)[0:5]"
   ]
  },
  {
   "cell_type": "markdown",
   "id": "09715b38",
   "metadata": {},
   "source": [
    "<!-- Se observa que, para el caso de la región `geo_02` existe una predicción casi exacta ya que las características de los parámetros utilizados para hacer predicciones siguen una tendencia regular y que todos los valores expuestios tienen son iguales; las otras regiones muestran algo parecido a una distribución normal hacia una campana de Gauss obteniendo de igual modo y por medio de bootstrap valos estadísticos con mayor resolusión. -->"
   ]
  },
  {
   "cell_type": "code",
   "execution_count": 32,
   "id": "cb6e5d04",
   "metadata": {},
   "outputs": [],
   "source": [
    "# profit_estimate(geo_3, True)[6].hist(bins=100)\n",
    "# profit_estimate(geo_3, True)[0:5]"
   ]
  },
  {
   "cell_type": "code",
   "execution_count": 33,
   "id": "db56cb73",
   "metadata": {},
   "outputs": [],
   "source": [
    "# profit_estimate(geo_3, False)[6].hist(bins=100)\n",
    "# profit_estimate(geo_3, False)[0:5]"
   ]
  },
  {
   "cell_type": "markdown",
   "id": "9fa273f2",
   "metadata": {},
   "source": [
    "<!-- Para copilar mejor la información se pretende crar una tabla con el margen de ganancia tanto con el uso del modelo prediictivo como sin él. -->"
   ]
  },
  {
   "cell_type": "code",
   "execution_count": 34,
   "id": "566dccd2",
   "metadata": {},
   "outputs": [],
   "source": [
    "# # Obtención del margen de  ganancia de cada uno de las regiones con y sin el modelo predictivo\n",
    "# margen_1 = profit_estimate(geo_1, False)[5]\n",
    "# margen_1_pred = profit_estimate(geo_1, True)[5]\n",
    "# margen_2 = profit_estimate(geo_2, False)[5]\n",
    "# margen_2_pred = profit_estimate(geo_2, True)[5]\n",
    "# margen_3 = profit_estimate(geo_3, False)[5]\n",
    "# margen_3_pred = profit_estimate(geo_3, True)[5] "
   ]
  },
  {
   "cell_type": "code",
   "execution_count": 35,
   "id": "896eba62",
   "metadata": {},
   "outputs": [],
   "source": [
    "# resume = pd.DataFrame(data = {\n",
    "#     'region' : ['geo_1','geo_2','geo_3'],\n",
    "#     'margen_neto_real' : [margen_1, margen_2,margen_3],\n",
    "#     'margen_neto_pred' : [margen_1_pred, margen_2_pred,margen_3_pred]\n",
    "# })\n",
    "# resume"
   ]
  },
  {
   "cell_type": "markdown",
   "id": "f73436e9",
   "metadata": {},
   "source": [
    "<!-- Se observa que el margen de ganancia es mejor en las regiones de `geo_1` y `geo_3` cuando se hace el calculo de ganancias los valores exactos del producto; sin embargo, el margen de ganancias casi se triplica al usar el modelo predictivo para la región `geo_2`, esto se debe a que con los valores reales se tiene pozos con mayor volumen de extracción y con ello de ganancias pero los modelos predictivos creados no lo hacen tan eficientemente a diferencia del modelo predictivo para `geo_2` donde, debido a su excelente capacidad de predecir el volumen del crudo en los pozos dependientes de características se conoce bien y con alta precisión el valor del margen de ganacias es casi del triple -->"
   ]
  },
  {
   "cell_type": "code",
   "execution_count": 36,
   "id": "8177fa36",
   "metadata": {
    "scrolled": true
   },
   "outputs": [
    {
     "data": {
      "text/html": [
       "<div>\n",
       "<style scoped>\n",
       "    .dataframe tbody tr th:only-of-type {\n",
       "        vertical-align: middle;\n",
       "    }\n",
       "\n",
       "    .dataframe tbody tr th {\n",
       "        vertical-align: top;\n",
       "    }\n",
       "\n",
       "    .dataframe thead th {\n",
       "        text-align: right;\n",
       "    }\n",
       "</style>\n",
       "<table border=\"1\" class=\"dataframe\">\n",
       "  <thead>\n",
       "    <tr style=\"text-align: right;\">\n",
       "      <th></th>\n",
       "      <th>region</th>\n",
       "      <th>product</th>\n",
       "      <th>revenue</th>\n",
       "      <th>mean_profit</th>\n",
       "      <th>low_conf_interval</th>\n",
       "      <th>up_conf_interval</th>\n",
       "      <th>lost_risk_%</th>\n",
       "    </tr>\n",
       "  </thead>\n",
       "  <tbody>\n",
       "    <tr>\n",
       "      <th>0</th>\n",
       "      <td>region1</td>\n",
       "      <td>8765.958421</td>\n",
       "      <td>39446812</td>\n",
       "      <td>4516986</td>\n",
       "      <td>-701677</td>\n",
       "      <td>1278754</td>\n",
       "      <td>5.2</td>\n",
       "    </tr>\n",
       "    <tr>\n",
       "      <th>1</th>\n",
       "      <td>region2</td>\n",
       "      <td>5543.071232</td>\n",
       "      <td>24943820</td>\n",
       "      <td>4543790</td>\n",
       "      <td>535596</td>\n",
       "      <td>1858967</td>\n",
       "      <td>1.4</td>\n",
       "    </tr>\n",
       "    <tr>\n",
       "      <th>2</th>\n",
       "      <td>region3</td>\n",
       "      <td>7469.343603</td>\n",
       "      <td>33612046</td>\n",
       "      <td>3721744</td>\n",
       "      <td>-1855207</td>\n",
       "      <td>67727</td>\n",
       "      <td>9.4</td>\n",
       "    </tr>\n",
       "  </tbody>\n",
       "</table>\n",
       "</div>"
      ],
      "text/plain": [
       "    region      product   revenue  mean_profit  low_conf_interval  \\\n",
       "0  region1  8765.958421  39446812      4516986            -701677   \n",
       "1  region2  5543.071232  24943820      4543790             535596   \n",
       "2  region3  7469.343603  33612046      3721744           -1855207   \n",
       "\n",
       "   up_conf_interval  lost_risk_%  \n",
       "0           1278754          5.2  \n",
       "1           1858967          1.4  \n",
       "2             67727          9.4  "
      ]
     },
     "execution_count": 36,
     "metadata": {},
     "output_type": "execute_result"
    }
   ],
   "source": [
    "# unir tablas de resultados obtenidos\n",
    "\n",
    "final_df = pd.merge(df_cal_profit, statics_region, left_index = True, right_index=True)\n",
    "final_df"
   ]
  },
  {
   "cell_type": "markdown",
   "id": "bb8a83d7",
   "metadata": {},
   "source": [
    "`low_conf_interval`: es el valor más bajo (el cuantil 0.025%).\n",
    "\n",
    "\n",
    "`up_conf_interval`: es el valor más alto (el cuantil 0.975%).\n",
    "\n",
    "\n",
    "Lo que nos muestra para cada región el intervalo de confianza del 95 %."
   ]
  },
  {
   "cell_type": "markdown",
   "id": "a9b05c55",
   "metadata": {},
   "source": [
    "\n",
    "<div class=\"alert alert-block alert-success\">\n",
    "<b>Comentario del revisor</b> <a class=“tocSkip”></a>\n",
    "Gran trabajo!  &#128077; <br>\n",
    "Has incluido los cálculos de los intervalos de confianza y el riesgo\n",
    "</div>"
   ]
  },
  {
   "cell_type": "markdown",
   "id": "5786b5c3",
   "metadata": {},
   "source": [
    "<!-- ## Cálculo de ganancias con respecto a una muestra aleatoria por región\n",
    "\n",
    "La siguiente información es meramente infomativa y su uso se destina a la comparativa sobre las ganancias que se generarían si se hiciera un muestreo aleatorio haciendo uso del modelo predictivo. -->"
   ]
  },
  {
   "cell_type": "code",
   "execution_count": 37,
   "id": "b6173ea2",
   "metadata": {},
   "outputs": [],
   "source": [
    "# state = np.random.RandomState(12345)"
   ]
  },
  {
   "cell_type": "code",
   "execution_count": 38,
   "id": "906cd34b",
   "metadata": {},
   "outputs": [],
   "source": [
    "# def cal_profit_per_sample(target, samples):\n",
    "#     count = []\n",
    "#     for i in range(samples):\n",
    "#         profit = int(pd.Series(target)\n",
    "#                  .sample(n=1000, random_state=state)\n",
    "#                  .sort_values(ascending=False)\n",
    "#                  .head(200)\n",
    "#                  .sum()*4500-1e8)\n",
    "#         count.append(profit)\n",
    "#     count = pd.Series(count)\n",
    "#     print(f'Media: $ {count.mean()} USD')\n",
    "#     confidence_interval = st.t.interval(0.95, len(count)-1, loc=count.mean(), scale=count.sem())\n",
    "#     print('Intervalo de confianza del 95 %:', confidence_interval)\n",
    "#     print('-'*80)\n",
    "#     profit = count.mean() / 1e8\n",
    "#     print(f'Ganancia neta: {profit:.1%}')"
   ]
  },
  {
   "cell_type": "code",
   "execution_count": 39,
   "id": "3d51d061",
   "metadata": {},
   "outputs": [],
   "source": [
    "# cal_profit_per_sample(predictions_1,100)"
   ]
  },
  {
   "cell_type": "code",
   "execution_count": 40,
   "id": "33e3275d",
   "metadata": {},
   "outputs": [],
   "source": [
    "# cal_profit_per_sample(predictions_2,100)"
   ]
  },
  {
   "cell_type": "code",
   "execution_count": 41,
   "id": "b8538841",
   "metadata": {
    "scrolled": false
   },
   "outputs": [],
   "source": [
    "# cal_profit_per_sample(predictions_3,100)"
   ]
  },
  {
   "cell_type": "markdown",
   "id": "65bc0cd0",
   "metadata": {},
   "source": [
    "<!-- Todos los resultados anteriores nos llevan a pensar que independientemente de la región, si se eligen los pozos con la mejor predicción en volumen de crudo, la región más prometedora es `geo_2`, sin embargo, al elegir pozos de manera aleatoria las ganancias totales son muy mínimas. -->"
   ]
  },
  {
   "cell_type": "code",
   "execution_count": 42,
   "id": "eec18fad",
   "metadata": {},
   "outputs": [
    {
     "data": {
      "text/html": [
       "<div>\n",
       "<style scoped>\n",
       "    .dataframe tbody tr th:only-of-type {\n",
       "        vertical-align: middle;\n",
       "    }\n",
       "\n",
       "    .dataframe tbody tr th {\n",
       "        vertical-align: top;\n",
       "    }\n",
       "\n",
       "    .dataframe thead th {\n",
       "        text-align: right;\n",
       "    }\n",
       "</style>\n",
       "<table border=\"1\" class=\"dataframe\">\n",
       "  <thead>\n",
       "    <tr style=\"text-align: right;\">\n",
       "      <th></th>\n",
       "      <th>region</th>\n",
       "      <th>product</th>\n",
       "      <th>revenue</th>\n",
       "      <th>mean_profit</th>\n",
       "      <th>low_conf_interval</th>\n",
       "      <th>up_conf_interval</th>\n",
       "      <th>lost_risk_%</th>\n",
       "      <th>margin_profit_%</th>\n",
       "    </tr>\n",
       "  </thead>\n",
       "  <tbody>\n",
       "    <tr>\n",
       "      <th>0</th>\n",
       "      <td>region1</td>\n",
       "      <td>8765.958421</td>\n",
       "      <td>39446812</td>\n",
       "      <td>4516986</td>\n",
       "      <td>-701677</td>\n",
       "      <td>1278754</td>\n",
       "      <td>5.2</td>\n",
       "      <td>4.516986</td>\n",
       "    </tr>\n",
       "    <tr>\n",
       "      <th>1</th>\n",
       "      <td>region2</td>\n",
       "      <td>5543.071232</td>\n",
       "      <td>24943820</td>\n",
       "      <td>4543790</td>\n",
       "      <td>535596</td>\n",
       "      <td>1858967</td>\n",
       "      <td>1.4</td>\n",
       "      <td>4.543790</td>\n",
       "    </tr>\n",
       "    <tr>\n",
       "      <th>2</th>\n",
       "      <td>region3</td>\n",
       "      <td>7469.343603</td>\n",
       "      <td>33612046</td>\n",
       "      <td>3721744</td>\n",
       "      <td>-1855207</td>\n",
       "      <td>67727</td>\n",
       "      <td>9.4</td>\n",
       "      <td>3.721744</td>\n",
       "    </tr>\n",
       "  </tbody>\n",
       "</table>\n",
       "</div>"
      ],
      "text/plain": [
       "    region      product   revenue  mean_profit  low_conf_interval  \\\n",
       "0  region1  8765.958421  39446812      4516986            -701677   \n",
       "1  region2  5543.071232  24943820      4543790             535596   \n",
       "2  region3  7469.343603  33612046      3721744           -1855207   \n",
       "\n",
       "   up_conf_interval  lost_risk_%  margin_profit_%  \n",
       "0           1278754          5.2         4.516986  \n",
       "1           1858967          1.4         4.543790  \n",
       "2             67727          9.4         3.721744  "
      ]
     },
     "execution_count": 42,
     "metadata": {},
     "output_type": "execute_result"
    }
   ],
   "source": [
    "final_df['margin_profit_%'] = (final_df['mean_profit']+1e8)/1e6-100\n",
    "final_df"
   ]
  },
  {
   "cell_type": "markdown",
   "id": "717c6fe4",
   "metadata": {},
   "source": [
    "## Conclusión\n",
    "\n"
   ]
  },
  {
   "cell_type": "markdown",
   "id": "333114e4",
   "metadata": {},
   "source": [
    "Se realizó un análisis de tres regiones con información de 10000 pozos con el fin de estimar la mejor región para gestionar la elaboración de 200 pozos con una inversión inical de 100 millones de USD, el objetivo es obtener el mayor margen de ganancias posible a través del uso de modelos predictivos.\n",
    "\n",
    "- Se determinó la mayor cantidad de beneficio posible que hubo con base en los datos extraídos de la fuente, siendo los resultados de la siguiente manera:\n",
    "\n",
    "    1) Para la región 1(`geo_1`): **39.45 millones de USD**\n",
    "        \n",
    "    2) Para la región 2(`geo_2`): **24.94 millones de USD**\n",
    "        \n",
    "    3) Para la región 3(`geo_3`): **33.61 millones de USD**\n",
    "    \n",
    "\n",
    "- Se realizó un modelo predictivo por cada región siendo el de mayor calidad el que fue entrenado para la región 2 `geo_2`\n",
    "\n",
    "- Se determina que la región con el menor riesgo de perdida y mediante el uso de un modelo predictivo es la region 2 `geo_2`, que si bien es la región que ligeramente muestra un a ganancia neta menor a las otras dos regiones (hablando de el mejor escenario posible con una confianza del 95%), da una mayor seguridad de inversión tomando en cuenta los riesgos de pérdida y el valor medio de ganancia es la mejor opción.\n",
    "\n",
    "En resumen, la mejor región para realizar las futuras perforaciones es la región 2 `geo_2` debido a que al tener un muestreo con las características y el modelo de la región `geo_2` se obtiene el mayor beneficio neto (en este caso **4.66%**)."
   ]
  },
  {
   "cell_type": "markdown",
   "id": "8112e434",
   "metadata": {},
   "source": [
    "\n",
    "\n",
    "<div class=\"alert alert-block alert-warning\">\n",
    "<b>Comentario del revisor</b> <a class=“tocSkip”></a>\n",
    "Gran trabajo!  &#128077; <br>\n",
    "\n",
    "Destaco de tu trabajo la extensión y la dedicación que te has tomado en examinar varios aspectos del conjunto de datos.\n",
    "Aún podemos mejorar en algunos puntos: \n",
    "\n",
    "- Corregiremos los cálculos para revenue \n",
    "- Verificaremos los efectos de profit sobre bootstraping. \n",
    "- Calcularemos el riesgo. recuerda considerar los valores que son profit<0. Posteriormente calcula la proporción de pérdidas en la serie de datos \"profit\" dividiendo el número de valores en losses entre el número total de valores en profit.  \n",
    "</div>\n"
   ]
  },
  {
   "cell_type": "markdown",
   "id": "cb210bca",
   "metadata": {},
   "source": [
    "<div class=\"alert alert-block alert-success\">\n",
    "<b>Comentario del revisor</b> <a class=“tocSkip”></a>\n",
    "Gran trabajo!  &#128077; <br>\n",
    "\n",
    "Una gran disculpa, no noté que te comenté mi función como revenuew cuando en realidad debería de haber sido la función de benefit, me enredé con los terminos, revenue, profit y sus traducciones.\n",
    "    \n",
    "Al final he válidado las predicciones y los conjuntos de datos y los conjuntos de datos se miran bien. También noté que implementaste correctamente el bootstrapping con los 500 puntos. Y que has implementado el cálculo de los intervalos de confianza. Creo que tenemos todo listo para aprobar el proyecto.\n",
    "</div>\n"
   ]
  }
 ],
 "metadata": {
  "kernelspec": {
   "display_name": "Python 3 (ipykernel)",
   "language": "python",
   "name": "python3"
  },
  "language_info": {
   "codemirror_mode": {
    "name": "ipython",
    "version": 3
   },
   "file_extension": ".py",
   "mimetype": "text/x-python",
   "name": "python",
   "nbconvert_exporter": "python",
   "pygments_lexer": "ipython3",
   "version": "3.9.5"
  },
  "toc": {
   "base_numbering": 1,
   "nav_menu": {},
   "number_sections": true,
   "sideBar": true,
   "skip_h1_title": true,
   "title_cell": "Table of Contents",
   "title_sidebar": "Contents",
   "toc_cell": false,
   "toc_position": {},
   "toc_section_display": true,
   "toc_window_display": false
  }
 },
 "nbformat": 4,
 "nbformat_minor": 5
}
